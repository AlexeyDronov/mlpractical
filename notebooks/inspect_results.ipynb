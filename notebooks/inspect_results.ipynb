{
 "cells": [
  {
   "cell_type": "code",
   "execution_count": 1,
   "metadata": {},
   "outputs": [],
   "source": [
    "import pandas as pd "
   ]
  },
  {
   "cell_type": "code",
   "execution_count": 2,
   "metadata": {},
   "outputs": [],
   "source": [
    "def print_results(summary:pd.DataFrame, return_results:bool = False)-> dict[str, float]: \n",
    "    results = {}\n",
    "    results['train_loss'] = summary['train_loss'].min()\n",
    "    results['train_acc'] = summary['train_acc'].max() * 100\n",
    "    results['val_loss'] = summary['val_loss'].min()\n",
    "    results['val_acc'] = summary['val_acc'].max() * 100\n",
    "\n",
    "    for key, value in results.items():\n",
    "        print(\"Best {0} for {1} is {2:.4}\".format(key, summary.name, value))\n",
    "    if return_results:\n",
    "        return results"
   ]
  },
  {
   "cell_type": "code",
   "execution_count": 4,
   "metadata": {},
   "outputs": [
    {
     "name": "stdout",
     "output_type": "stream",
     "text": [
      "Best train_loss for VGG_38_BN_experiment is 1.974\n",
      "Best train_acc for VGG_38_BN_experiment is 46.34\n",
      "Best val_loss for VGG_38_BN_experiment is 2.002\n",
      "Best val_acc for VGG_38_BN_experiment is 45.36\n"
     ]
    }
   ],
   "source": [
    "vgg_38_bn_results = pd.read_csv(\"../VGG_38_BN_experiment/result_outputs/summary.csv\")\n",
    "vgg_38_bn_results.name = 'VGG_38_BN_experiment'\n",
    "print_results(vgg_38_bn_results)"
   ]
  },
  {
   "cell_type": "code",
   "execution_count": null,
   "metadata": {},
   "outputs": [],
   "source": []
  }
 ],
 "metadata": {
  "kernelspec": {
   "display_name": "mlp",
   "language": "python",
   "name": "python3"
  },
  "language_info": {
   "codemirror_mode": {
    "name": "ipython",
    "version": 3
   },
   "file_extension": ".py",
   "mimetype": "text/x-python",
   "name": "python",
   "nbconvert_exporter": "python",
   "pygments_lexer": "ipython3",
   "version": "3.12.5"
  }
 },
 "nbformat": 4,
 "nbformat_minor": 2
}
