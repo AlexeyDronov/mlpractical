{
 "cells": [
  {
   "cell_type": "code",
   "execution_count": 1,
   "metadata": {},
   "outputs": [],
   "source": [
    "from pytorch_mlp_framework.model_architectures import *"
   ]
  },
  {
   "cell_type": "code",
   "execution_count": 2,
   "metadata": {},
   "outputs": [
    {
     "name": "stdout",
     "output_type": "stream",
     "text": [
      "Building basic block of ConvolutionalNetwork using input shape (100, 3, 32, 32)\n",
      "torch.Size([100, 32, 32, 32])\n",
      "torch.Size([100, 32, 32, 32])\n",
      "torch.Size([100, 32, 32, 32])\n",
      "torch.Size([100, 32, 32, 32])\n",
      "torch.Size([100, 32, 32, 32])\n",
      "torch.Size([100, 32, 32, 32])\n",
      "torch.Size([100, 32, 16, 16])\n",
      "torch.Size([100, 32, 16, 16])\n",
      "torch.Size([100, 32, 16, 16])\n",
      "torch.Size([100, 32, 16, 16])\n",
      "torch.Size([100, 32, 16, 16])\n",
      "torch.Size([100, 32, 16, 16])\n",
      "torch.Size([100, 32, 8, 8])\n",
      "torch.Size([100, 32, 8, 8])\n",
      "torch.Size([100, 32, 8, 8])\n",
      "torch.Size([100, 32, 8, 8])\n",
      "torch.Size([100, 32, 8, 8])\n",
      "torch.Size([100, 32, 8, 8])\n",
      "torch.Size([100, 32, 4, 4])\n",
      "shape before final linear layer torch.Size([100, 32, 1, 1])\n",
      "Block is built, output volume is torch.Size([100, 100])\n",
      "338500\n"
     ]
    }
   ],
   "source": [
    "bn_model = ConvolutionalNetwork(  # initialize our network object, in this case a ConvNet\n",
    "    input_shape=(100, 3, 32, 32),\n",
    "    num_output_classes=100, num_filters=32, use_bias=False,\n",
    "    num_blocks_per_stage=5, num_stages=3,\n",
    "    processing_block_type=BN_ConvolutionalProcessingBlock,\n",
    "    dimensionality_reduction_block_type=BN_ConvolutionalDimensionalityReductionBlock)\n",
    "\n",
    "num_parameters = sum(p.numel() for p in bn_model.parameters())\n",
    "print(num_parameters)"
   ]
  },
  {
   "cell_type": "code",
   "execution_count": 3,
   "metadata": {},
   "outputs": [
    {
     "name": "stdout",
     "output_type": "stream",
     "text": [
      "Building basic block of ConvolutionalNetwork using input shape (100, 3, 32, 32)\n",
      "torch.Size([100, 32, 32, 32])\n",
      "torch.Size([100, 32, 32, 32])\n",
      "torch.Size([100, 32, 32, 32])\n",
      "torch.Size([100, 32, 32, 32])\n",
      "torch.Size([100, 32, 32, 32])\n",
      "torch.Size([100, 32, 32, 32])\n",
      "torch.Size([100, 32, 16, 16])\n",
      "torch.Size([100, 32, 16, 16])\n",
      "torch.Size([100, 32, 16, 16])\n",
      "torch.Size([100, 32, 16, 16])\n",
      "torch.Size([100, 32, 16, 16])\n",
      "torch.Size([100, 32, 16, 16])\n",
      "torch.Size([100, 32, 8, 8])\n",
      "torch.Size([100, 32, 8, 8])\n",
      "torch.Size([100, 32, 8, 8])\n",
      "torch.Size([100, 32, 8, 8])\n",
      "torch.Size([100, 32, 8, 8])\n",
      "torch.Size([100, 32, 8, 8])\n",
      "torch.Size([100, 32, 4, 4])\n",
      "shape before final linear layer torch.Size([100, 32, 1, 1])\n",
      "Block is built, output volume is torch.Size([100, 100])\n",
      "338500\n"
     ]
    }
   ],
   "source": [
    "bn_model = ConvolutionalNetwork(  # initialize our network object, in this case a ConvNet\n",
    "    input_shape=(100, 3, 32, 32),\n",
    "    num_output_classes=100, num_filters=32, use_bias=False,\n",
    "    num_blocks_per_stage=5, num_stages=3,\n",
    "    processing_block_type=BN_RC_ConvolutionalProcessingBlock,\n",
    "    dimensionality_reduction_block_type=BN_RC_ConvolutionalDimensionalityReductionBlock)\n",
    "\n",
    "num_parameters = sum(p.numel() for p in bn_model.parameters())\n",
    "print(num_parameters)"
   ]
  }
 ],
 "metadata": {
  "kernelspec": {
   "display_name": "mlp",
   "language": "python",
   "name": "python3"
  },
  "language_info": {
   "codemirror_mode": {
    "name": "ipython",
    "version": 3
   },
   "file_extension": ".py",
   "mimetype": "text/x-python",
   "name": "python",
   "nbconvert_exporter": "python",
   "pygments_lexer": "ipython3",
   "version": "3.12.5"
  }
 },
 "nbformat": 4,
 "nbformat_minor": 2
}
